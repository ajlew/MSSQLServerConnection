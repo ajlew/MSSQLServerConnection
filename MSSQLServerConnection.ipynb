{
 "cells": [
  {
   "cell_type": "code",
   "execution_count": 7,
   "metadata": {},
   "outputs": [
    {
     "name": "stdout",
     "output_type": "stream",
     "text": [
      "   BusinessEntityID                            Name  SalesPersonID  \\\n",
      "0               292            Next-Door Bike Store            279   \n",
      "1               294  Professional Sales and Service            276   \n",
      "2               296                  Riders Company            277   \n",
      "\n",
      "                                        Demographics  \\\n",
      "0  <StoreSurvey xmlns=\"http://schemas.microsoft.c...   \n",
      "1  <StoreSurvey xmlns=\"http://schemas.microsoft.c...   \n",
      "2  <StoreSurvey xmlns=\"http://schemas.microsoft.c...   \n",
      "\n",
      "                                rowguid            ModifiedDate  \n",
      "0  A22517E3-848D-4EBE-B9D9-7437F3432304 2014-09-12 11:15:07.497  \n",
      "1  B50CA50B-C601-4A13-B07E-2C63862D71B4 2014-09-12 11:15:07.497  \n",
      "2  337C3688-1339-4E1A-A08A-B54B23566E49 2014-09-12 11:15:07.497  \n",
      "<class 'pandas.core.frame.DataFrame'>\n"
     ]
    }
   ],
   "source": [
    "\n",
    "import pandas as pd\n",
    "import pyodbc \n",
    "conn = pyodbc.connect('Driver={SQL Server};'\n",
    "                      'Server=LAPTOP-2E6G4IK6;'\n",
    "                      'Database=AdventureWorks2017;'\n",
    "                      'Trusted_Connection=yes;')\n",
    "\n",
    "cursor = conn.cursor()\n",
    "\n",
    "sql_query = pd.read_sql_query('SELECT * FROM Sales.Store',conn)\n",
    "print(sql_query.head(3)) #prints just the top layer of rows to 5 or specified\n",
    "print(type(sql_query))"
   ]
  },
  {
   "cell_type": "code",
   "execution_count": null,
   "metadata": {},
   "outputs": [],
   "source": []
  }
 ],
 "metadata": {
  "kernelspec": {
   "display_name": "Python 3",
   "language": "python",
   "name": "python3"
  },
  "language_info": {
   "codemirror_mode": {
    "name": "ipython",
    "version": 3
   },
   "file_extension": ".py",
   "mimetype": "text/x-python",
   "name": "python",
   "nbconvert_exporter": "python",
   "pygments_lexer": "ipython3",
   "version": "3.7.9"
  }
 },
 "nbformat": 4,
 "nbformat_minor": 4
}
